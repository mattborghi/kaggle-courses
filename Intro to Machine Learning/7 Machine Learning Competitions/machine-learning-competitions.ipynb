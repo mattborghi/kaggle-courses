{
 "cells": [
  {
   "cell_type": "markdown",
   "metadata": {
    "KAGGLE_FREEZE": true,
    "papermill": {
     "duration": 0.003971,
     "end_time": "2020-10-01T00:56:11.284814",
     "exception": false,
     "start_time": "2020-10-01T00:56:11.280843",
     "status": "completed"
    },
    "tags": []
   },
   "source": [
    "Machine learning competitions are a great way to improve your data science skills and measure your progress. \n",
    "\n",
    "In the next exercise, you will create and submit predictions for the [House Prices Competition for Kaggle Learn Users](https://www.kaggle.com/c/home-data-for-ml-course). \n",
    "\n",
    "![join competition image](https://i.imgur.com/axBzctl.png)\n",
    "\n",
    "# Your Turn \n",
    "Use what you've learned in the course to **[create a submission](https://www.kaggle.com/kernels/fork/1259198)** to a Kaggle competition!"
   ]
  },
  {
   "cell_type": "markdown",
   "metadata": {
    "papermill": {
     "duration": 0.00226,
     "end_time": "2020-10-01T00:56:11.289987",
     "exception": false,
     "start_time": "2020-10-01T00:56:11.287727",
     "status": "completed"
    },
    "tags": []
   },
   "source": [
    "---\n",
    "\n",
    "\n",
    "\n",
    "\n",
    "*Have questions or comments? Visit the [Learn Discussion forum](https://www.kaggle.com/learn-forum/161285) to chat with other Learners.*"
   ]
  }
 ],
 "metadata": {
  "kernelspec": {
   "display_name": "Python 3",
   "language": "python",
   "name": "python3"
  },
  "language_info": {
   "codemirror_mode": {
    "name": "ipython",
    "version": 3
   },
   "file_extension": ".py",
   "mimetype": "text/x-python",
   "name": "python",
   "nbconvert_exporter": "python",
   "pygments_lexer": "ipython3",
   "version": "3.7.6"
  },
  "papermill": {
   "duration": 5.532934,
   "end_time": "2020-10-01T00:56:11.402024",
   "environment_variables": {},
   "exception": null,
   "input_path": "__notebook__.ipynb",
   "output_path": "__notebook__.ipynb",
   "parameters": {},
   "start_time": "2020-10-01T00:56:05.869090",
   "version": "2.1.0"
  }
 },
 "nbformat": 4,
 "nbformat_minor": 2
}
