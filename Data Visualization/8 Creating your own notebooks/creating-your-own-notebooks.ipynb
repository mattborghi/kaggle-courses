{
 "cells": [
  {
   "cell_type": "markdown",
   "metadata": {
    "papermill": {
     "duration": 0.006256,
     "end_time": "2020-10-01T00:23:57.237656",
     "exception": false,
     "start_time": "2020-10-01T00:23:57.231400",
     "status": "completed"
    },
    "tags": []
   },
   "source": [
    "Congratulations for making it to the end of the micro-course!\n",
    "\n",
    "In this final tutorial, you'll learn an efficient workflow that you can use to continue creating your own stunning data visualizations on the Kaggle website."
   ]
  },
  {
   "cell_type": "markdown",
   "metadata": {
    "papermill": {
     "duration": 0.004325,
     "end_time": "2020-10-01T00:23:57.247282",
     "exception": false,
     "start_time": "2020-10-01T00:23:57.242957",
     "status": "completed"
    },
    "tags": []
   },
   "source": [
    "## Workflow\n",
    "\n",
    "Begin by navigating to the site for Kaggle Notebooks:\n",
    "> https://www.kaggle.com/kernels\n",
    "\n",
    "Then, in the top right corner, click on **[New Notebook]**.\n",
    "\n",
    "![tut7_new_kernel](https://i.imgur.com/qND102B.png)\n",
    "\n",
    "This opens a pop-up window.\n",
    "\n",
    "![tut7_notebook](https://i.imgur.com/1QRsU30.png)\n",
    "\n",
    "Then, click on **[Create]**.  (Don't change the default settings: so, **\"Python\"** should appear under \"Select language\", and you should have **\"Notebook\"** selected under \"Select type\".)\n",
    "\n",
    "This opens a notebook with some default code.  **_Please erase this code, and replace it with the code in the cell below._**  (_This is the same code that you used in all of the exercises to set up your Python environment._)"
   ]
  },
  {
   "cell_type": "code",
   "execution_count": 1,
   "metadata": {
    "execution": {
     "iopub.execute_input": "2020-10-01T00:23:57.264716Z",
     "iopub.status.busy": "2020-10-01T00:23:57.263946Z",
     "iopub.status.idle": "2020-10-01T00:23:58.624281Z",
     "shell.execute_reply": "2020-10-01T00:23:58.625255Z"
    },
    "papermill": {
     "duration": 1.373668,
     "end_time": "2020-10-01T00:23:58.625542",
     "exception": false,
     "start_time": "2020-10-01T00:23:57.251874",
     "status": "completed"
    },
    "tags": []
   },
   "outputs": [
    {
     "name": "stdout",
     "output_type": "stream",
     "text": [
      "Setup Complete\n"
     ]
    }
   ],
   "source": [
    "import pandas as pd\n",
    "pd.plotting.register_matplotlib_converters()\n",
    "import matplotlib.pyplot as plt\n",
    "%matplotlib inline\n",
    "import seaborn as sns\n",
    "print(\"Setup Complete\")"
   ]
  },
  {
   "cell_type": "markdown",
   "metadata": {
    "papermill": {
     "duration": 0.007394,
     "end_time": "2020-10-01T00:23:58.641121",
     "exception": false,
     "start_time": "2020-10-01T00:23:58.633727",
     "status": "completed"
    },
    "tags": []
   },
   "source": [
    "The next step is to attach a dataset, before writing code to visualize it.  (_You learned how to do that in the previous tutorial._) \n",
    "\n",
    "Then, once you have generated a figure, you need only save it as an image file that you can easily add to your presentations!"
   ]
  },
  {
   "cell_type": "markdown",
   "metadata": {
    "papermill": {
     "duration": 0.005134,
     "end_time": "2020-10-01T00:23:58.654251",
     "exception": false,
     "start_time": "2020-10-01T00:23:58.649117",
     "status": "completed"
    },
    "tags": []
   },
   "source": [
    "---\n",
    "\n",
    "\n",
    "\n",
    "\n",
    "*Have questions or comments? Visit the [Learn Discussion forum](https://www.kaggle.com/learn-forum/161291) to chat with other Learners.*"
   ]
  }
 ],
 "metadata": {
  "kernelspec": {
   "display_name": "Python 3",
   "language": "python",
   "name": "python3"
  },
  "language_info": {
   "codemirror_mode": {
    "name": "ipython",
    "version": 3
   },
   "file_extension": ".py",
   "mimetype": "text/x-python",
   "name": "python",
   "nbconvert_exporter": "python",
   "pygments_lexer": "ipython3",
   "version": "3.7.6"
  },
  "papermill": {
   "duration": 7.208049,
   "end_time": "2020-10-01T00:23:58.773039",
   "environment_variables": {},
   "exception": null,
   "input_path": "__notebook__.ipynb",
   "output_path": "__notebook__.ipynb",
   "parameters": {},
   "start_time": "2020-10-01T00:23:51.564990",
   "version": "2.1.0"
  }
 },
 "nbformat": 4,
 "nbformat_minor": 2
}
