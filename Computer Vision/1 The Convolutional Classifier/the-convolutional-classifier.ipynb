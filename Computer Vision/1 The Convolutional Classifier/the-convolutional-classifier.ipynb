{
 "cells": [
  {
   "cell_type": "markdown",
   "metadata": {
    "papermill": {
     "duration": 0.009871,
     "end_time": "2021-03-15T18:33:53.030891",
     "exception": false,
     "start_time": "2021-03-15T18:33:53.021020",
     "status": "completed"
    },
    "tags": []
   },
   "source": [
    "# Welcome to Computer Vision! #\n",
    "\n",
    "Have you ever wanted to teach a computer to see? In this course, that's exactly what you'll do!\n",
    "\n",
    "In this course, you'll:\n",
    "- Use modern deep-learning networks to build an **image classifier** with Keras\n",
    "- Design your own **custom convnet** with reusable blocks\n",
    "- Learn the fundamental ideas behind visual **feature extraction**\n",
    "- Master the art of **transfer learning** to boost your models\n",
    "- Utilize **data augmentation** to extend your dataset\n",
    "\n",
    "If you've taken the *Introduction to Deep Learning* course, you'll know everything you need to be successful.\n",
    "\n",
    "Now let's get started!"
   ]
  },
  {
   "cell_type": "markdown",
   "metadata": {
    "papermill": {
     "duration": 0.008343,
     "end_time": "2021-03-15T18:33:53.047928",
     "exception": false,
     "start_time": "2021-03-15T18:33:53.039585",
     "status": "completed"
    },
    "tags": []
   },
   "source": [
    "# Introduction #\n",
    "\n",
    "This course will introduce you to the fundamental ideas of computer vision. Our goal is to learn how a neural network can \"understand\" a natural image well-enough to solve the same kinds of problems the human visual system can solve.\n",
    "\n",
    "The neural networks that are best at this task are called **convolutional neural networks** (Sometimes we say **convnet** or **CNN** instead.) Convolution is the mathematical operation that gives the layers of a convnet their unique structure. In future lessons, you'll learn why this structure is so effective at solving computer vision problems.\n",
    "\n",
    "We will apply these ideas to the problem of **image classification**: given a picture, can we train a computer to tell us what it's a picture *of*? You may have seen [apps](https://identify.plantnet.org/) that can identify a species of plant from a photograph. That's an image classifier! In this course, you'll learn how to build image classifiers just as powerful as those used in professional applications.\n",
    "\n",
    "While our focus will be on image classification, what you'll learn in this course is relevant to every kind of computer vision problem. At the end, you'll be ready to move on to more advanced applications like generative adversarial networks and image segmentation."
   ]
  },
  {
   "cell_type": "markdown",
   "metadata": {
    "papermill": {
     "duration": 0.008334,
     "end_time": "2021-03-15T18:33:53.064726",
     "exception": false,
     "start_time": "2021-03-15T18:33:53.056392",
     "status": "completed"
    },
    "tags": []
   },
   "source": [
    "# The Convolutional Classifier #\n",
    "\n",
    "A convnet used for image classification consists of two parts: a **convolutional base** and a **dense head**.\n",
    "\n",
    "<center>\n",
    "<!-- <img src=\"./images/1-parts-of-a-convnet.png\" width=\"600\" alt=\"The parts of a convnet: image, base, head, class; input, extract, classify, output.\">-->\n",
    "<img src=\"https://i.imgur.com/U0n5xjU.png\" width=\"600\" alt=\"The parts of a convnet: image, base, head, class; input, extract, classify, output.\">\n",
    "</center>\n",
    "\n",
    "The base is used to **extract the features** from an image. It is formed primarily of layers performing the convolution operation, but often includes other kinds of layers as well. (You'll learn about these in the next lesson.)\n",
    "\n",
    "The head is used to **determine the class** of the image. It is formed primarily of dense layers, but might include other layers like dropout. \n",
    "\n",
    "What do we mean by visual feature? A feature could be a line, a color, a texture, a shape, a pattern -- or some complicated combination.\n",
    "\n",
    "The whole process goes something like this:\n",
    "\n",
    "<center>\n",
    "<!-- <img src=\"./images/1-extract-classify.png\" width=\"600\" alt=\"The idea of feature extraction.\"> -->\n",
    "<img src=\"https://i.imgur.com/UUAafkn.png\" width=\"600\" alt=\"The idea of feature extraction.\">\n",
    "</center>\n",
    "\n",
    "The features actually extracted look a bit different, but it gives the idea."
   ]
  },
  {
   "cell_type": "markdown",
   "metadata": {
    "papermill": {
     "duration": 0.008388,
     "end_time": "2021-03-15T18:33:53.081703",
     "exception": false,
     "start_time": "2021-03-15T18:33:53.073315",
     "status": "completed"
    },
    "tags": []
   },
   "source": [
    "# Training the Classifier #\n",
    "\n",
    "The goal of the network during training is to learn two things:\n",
    "1. which features to extract from an image (base),\n",
    "2. which class goes with what features (head).\n",
    "\n",
    "These days, convnets are rarely trained from scratch. More often, we **reuse the base of a pretrained model**. To the pretrained base we then **attach an untrained head**. In other words, we reuse the part of a network that has already learned to do *1. Extract features*, and attach to it some fresh layers to learn *2. Classify*.\n",
    "\n",
    "<center>\n",
    "<!-- <img src=\"./images/1-attach-head-to-base.png\" width=\"400\" alt=\"Attaching a new head to a trained base.\"> -->\n",
    "<img src=\"https://imgur.com/E49fsmV.png\" width=\"400\" alt=\"Attaching a new head to a trained base.\">\n",
    "</center>\n",
    "\n",
    "Because the head usually consists of only a few dense layers, very accurate classifiers can be created from relatively little data. \n",
    "\n",
    "Reusing a pretrained model is a technique known as **transfer learning**. It is so effective, that almost every image classifier these days will make use of it."
   ]
  },
  {
   "cell_type": "markdown",
   "metadata": {
    "papermill": {
     "duration": 0.008469,
     "end_time": "2021-03-15T18:33:53.098756",
     "exception": false,
     "start_time": "2021-03-15T18:33:53.090287",
     "status": "completed"
    },
    "tags": []
   },
   "source": [
    "# Example - Train a Convnet Classifier #\n",
    "\n",
    "Throughout this course, we're going to be creating classifiers that attempt to solve the following problem: is this a picture of a *Car* or of a *Truck*? Our dataset is about 10,000 pictures of various automobiles, around half cars and half trucks."
   ]
  },
  {
   "cell_type": "markdown",
   "metadata": {
    "papermill": {
     "duration": 0.008492,
     "end_time": "2021-03-15T18:33:53.116127",
     "exception": false,
     "start_time": "2021-03-15T18:33:53.107635",
     "status": "completed"
    },
    "tags": []
   },
   "source": [
    "## Step 1 - Load Data ##\n",
    "\n",
    "This next hidden cell will import some libraries and set up our data pipeline. We have a training split called `ds_train` and a validation split called `ds_valid`."
   ]
  },
  {
   "cell_type": "code",
   "execution_count": 1,
   "metadata": {
    "_kg_hide-input": true,
    "execution": {
     "iopub.execute_input": "2021-03-15T18:33:53.144127Z",
     "iopub.status.busy": "2021-03-15T18:33:53.143433Z",
     "iopub.status.idle": "2021-03-15T18:34:04.392955Z",
     "shell.execute_reply": "2021-03-15T18:34:04.392286Z"
    },
    "papermill": {
     "duration": 11.268443,
     "end_time": "2021-03-15T18:34:04.393153",
     "exception": false,
     "start_time": "2021-03-15T18:33:53.124710",
     "status": "completed"
    },
    "tags": []
   },
   "outputs": [
    {
     "name": "stdout",
     "output_type": "stream",
     "text": [
      "Found 5117 files belonging to 2 classes.\n",
      "Found 5051 files belonging to 2 classes.\n"
     ]
    }
   ],
   "source": [
    "\n",
    "# Imports\n",
    "import os, warnings\n",
    "import matplotlib.pyplot as plt\n",
    "from matplotlib import gridspec\n",
    "\n",
    "import numpy as np\n",
    "import tensorflow as tf\n",
    "from tensorflow.keras.preprocessing import image_dataset_from_directory\n",
    "\n",
    "# Reproducability\n",
    "def set_seed(seed=31415):\n",
    "    np.random.seed(seed)\n",
    "    tf.random.set_seed(seed)\n",
    "    os.environ['PYTHONHASHSEED'] = str(seed)\n",
    "    os.environ['TF_DETERMINISTIC_OPS'] = '1'\n",
    "set_seed(31415)\n",
    "\n",
    "# Set Matplotlib defaults\n",
    "plt.rc('figure', autolayout=True)\n",
    "plt.rc('axes', labelweight='bold', labelsize='large',\n",
    "       titleweight='bold', titlesize=18, titlepad=10)\n",
    "plt.rc('image', cmap='magma')\n",
    "warnings.filterwarnings(\"ignore\") # to clean up output cells\n",
    "\n",
    "\n",
    "# Load training and validation sets\n",
    "ds_train_ = image_dataset_from_directory(\n",
    "    '../input/car-or-truck/train',\n",
    "    labels='inferred',\n",
    "    label_mode='binary',\n",
    "    image_size=[128, 128],\n",
    "    interpolation='nearest',\n",
    "    batch_size=64,\n",
    "    shuffle=True,\n",
    ")\n",
    "ds_valid_ = image_dataset_from_directory(\n",
    "    '../input/car-or-truck/valid',\n",
    "    labels='inferred',\n",
    "    label_mode='binary',\n",
    "    image_size=[128, 128],\n",
    "    interpolation='nearest',\n",
    "    batch_size=64,\n",
    "    shuffle=False,\n",
    ")\n",
    "\n",
    "# Data Pipeline\n",
    "def convert_to_float(image, label):\n",
    "    image = tf.image.convert_image_dtype(image, dtype=tf.float32)\n",
    "    return image, label\n",
    "\n",
    "AUTOTUNE = tf.data.experimental.AUTOTUNE\n",
    "ds_train = (\n",
    "    ds_train_\n",
    "    .map(convert_to_float)\n",
    "    .cache()\n",
    "    .prefetch(buffer_size=AUTOTUNE)\n",
    ")\n",
    "ds_valid = (\n",
    "    ds_valid_\n",
    "    .map(convert_to_float)\n",
    "    .cache()\n",
    "    .prefetch(buffer_size=AUTOTUNE)\n",
    ")\n"
   ]
  },
  {
   "cell_type": "markdown",
   "metadata": {
    "papermill": {
     "duration": 0.009137,
     "end_time": "2021-03-15T18:34:04.412838",
     "exception": false,
     "start_time": "2021-03-15T18:34:04.403701",
     "status": "completed"
    },
    "tags": []
   },
   "source": [
    "Let's take a look at a few examples from the training set."
   ]
  },
  {
   "cell_type": "code",
   "execution_count": 2,
   "metadata": {
    "_kg_hide-input": true,
    "execution": {
     "iopub.execute_input": "2021-03-15T18:34:04.436789Z",
     "iopub.status.busy": "2021-03-15T18:34:04.435239Z",
     "iopub.status.idle": "2021-03-15T18:34:04.437463Z",
     "shell.execute_reply": "2021-03-15T18:34:04.437848Z"
    },
    "papermill": {
     "duration": 0.015657,
     "end_time": "2021-03-15T18:34:04.438004",
     "exception": false,
     "start_time": "2021-03-15T18:34:04.422347",
     "status": "completed"
    },
    "tags": []
   },
   "outputs": [],
   "source": [
    "\n",
    "import matplotlib.pyplot as plt"
   ]
  },
  {
   "cell_type": "markdown",
   "metadata": {
    "papermill": {
     "duration": 0.009151,
     "end_time": "2021-03-15T18:34:04.456690",
     "exception": false,
     "start_time": "2021-03-15T18:34:04.447539",
     "status": "completed"
    },
    "tags": []
   },
   "source": [
    "## Step 2 - Define Pretrained Base ##\n",
    "\n",
    "The most commonly used dataset for pretraining is [*ImageNet*](http://image-net.org/about-overview), a large dataset of many kind of natural images. Keras includes a variety models pretrained on ImageNet in its [`applications` module](https://www.tensorflow.org/api_docs/python/tf/keras/applications). The pretrained model we'll use is called **VGG16**."
   ]
  },
  {
   "cell_type": "code",
   "execution_count": 3,
   "metadata": {
    "execution": {
     "iopub.execute_input": "2021-03-15T18:34:04.479294Z",
     "iopub.status.busy": "2021-03-15T18:34:04.478779Z",
     "iopub.status.idle": "2021-03-15T18:34:06.284901Z",
     "shell.execute_reply": "2021-03-15T18:34:06.283851Z"
    },
    "papermill": {
     "duration": 1.818672,
     "end_time": "2021-03-15T18:34:06.285045",
     "exception": false,
     "start_time": "2021-03-15T18:34:04.466373",
     "status": "completed"
    },
    "tags": []
   },
   "outputs": [],
   "source": [
    "pretrained_base = tf.keras.models.load_model(\n",
    "    '../input/cv-course-models/cv-course-models/vgg16-pretrained-base',\n",
    ")\n",
    "pretrained_base.trainable = False"
   ]
  },
  {
   "cell_type": "markdown",
   "metadata": {
    "papermill": {
     "duration": 0.009568,
     "end_time": "2021-03-15T18:34:06.305566",
     "exception": false,
     "start_time": "2021-03-15T18:34:06.295998",
     "status": "completed"
    },
    "tags": []
   },
   "source": [
    "## Step 3 - Attach Head ##\n",
    "\n",
    "Next, we attach the classifier head. For this example, we'll use a layer of hidden units (the first `Dense` layer) followed by a layer to transform the outputs to a probability score for class 1, `Truck`. The `Flatten` layer transforms the two dimensional outputs of the base into the one dimensional inputs needed by the head."
   ]
  },
  {
   "cell_type": "code",
   "execution_count": 4,
   "metadata": {
    "execution": {
     "iopub.execute_input": "2021-03-15T18:34:06.333684Z",
     "iopub.status.busy": "2021-03-15T18:34:06.332807Z",
     "iopub.status.idle": "2021-03-15T18:34:06.396794Z",
     "shell.execute_reply": "2021-03-15T18:34:06.396358Z"
    },
    "papermill": {
     "duration": 0.081665,
     "end_time": "2021-03-15T18:34:06.396941",
     "exception": false,
     "start_time": "2021-03-15T18:34:06.315276",
     "status": "completed"
    },
    "tags": []
   },
   "outputs": [],
   "source": [
    "from tensorflow import keras\n",
    "from tensorflow.keras import layers\n",
    "\n",
    "model = keras.Sequential([\n",
    "    pretrained_base,\n",
    "    layers.Flatten(),\n",
    "    layers.Dense(6, activation='relu'),\n",
    "    layers.Dense(1, activation='sigmoid'),\n",
    "])"
   ]
  },
  {
   "cell_type": "markdown",
   "metadata": {
    "papermill": {
     "duration": 0.009435,
     "end_time": "2021-03-15T18:34:06.416590",
     "exception": false,
     "start_time": "2021-03-15T18:34:06.407155",
     "status": "completed"
    },
    "tags": []
   },
   "source": [
    "## Step 4 - Train ##\n",
    "\n",
    "Finally, let's train the model. Since this is a two-class problem, we'll use the binary versions of `crossentropy` and `accuracy`. The `adam` optimizer generally performs well, so we'll choose it as well."
   ]
  },
  {
   "cell_type": "code",
   "execution_count": 5,
   "metadata": {
    "execution": {
     "iopub.execute_input": "2021-03-15T18:34:06.450132Z",
     "iopub.status.busy": "2021-03-15T18:34:06.449326Z",
     "iopub.status.idle": "2021-03-15T18:42:34.578944Z",
     "shell.execute_reply": "2021-03-15T18:42:34.580084Z"
    },
    "papermill": {
     "duration": 508.153647,
     "end_time": "2021-03-15T18:42:34.580304",
     "exception": false,
     "start_time": "2021-03-15T18:34:06.426657",
     "status": "completed"
    },
    "tags": []
   },
   "outputs": [],
   "source": [
    "model.compile(\n",
    "    optimizer='adam',\n",
    "    loss='binary_crossentropy',\n",
    "    metrics=['binary_accuracy'],\n",
    ")\n",
    "\n",
    "history = model.fit(\n",
    "    ds_train,\n",
    "    validation_data=ds_valid,\n",
    "    epochs=30,\n",
    "    verbose=0,\n",
    ")"
   ]
  },
  {
   "cell_type": "markdown",
   "metadata": {
    "papermill": {
     "duration": 0.017812,
     "end_time": "2021-03-15T18:42:34.617932",
     "exception": false,
     "start_time": "2021-03-15T18:42:34.600120",
     "status": "completed"
    },
    "tags": []
   },
   "source": [
    "When training a neural network, it's always a good idea to examine the loss and metric plots. The `history` object contains this information in a dictionary `history.history`. We can use Pandas to convert this dictionary to a dataframe and plot it with a built-in method."
   ]
  },
  {
   "cell_type": "code",
   "execution_count": 6,
   "metadata": {
    "execution": {
     "iopub.execute_input": "2021-03-15T18:42:34.663929Z",
     "iopub.status.busy": "2021-03-15T18:42:34.663183Z",
     "iopub.status.idle": "2021-03-15T18:42:35.205774Z",
     "shell.execute_reply": "2021-03-15T18:42:35.205278Z"
    },
    "papermill": {
     "duration": 0.57046,
     "end_time": "2021-03-15T18:42:35.205937",
     "exception": false,
     "start_time": "2021-03-15T18:42:34.635477",
     "status": "completed"
    },
    "tags": []
   },
   "outputs": [
    {
     "data": {
      "image/png": "[encoded data removed]",
      "text/plain": [
       "<Figure size 432x288 with 1 Axes>"
      ]
     },
     "metadata": {
      "needs_background": "light"
     },
     "output_type": "display_data"
    },
    {
     "data": {
      "image/png": "[encoded data removed]",
      "text/plain": [
       "<Figure size 432x288 with 1 Axes>"
      ]
     },
     "metadata": {
      "needs_background": "light"
     },
     "output_type": "display_data"
    }
   ],
   "source": [
    "import pandas as pd\n",
    "\n",
    "history_frame = pd.DataFrame(history.history)\n",
    "history_frame.loc[:, ['loss', 'val_loss']].plot()\n",
    "history_frame.loc[:, ['binary_accuracy', 'val_binary_accuracy']].plot();"
   ]
  },
  {
   "cell_type": "markdown",
   "metadata": {
    "papermill": {
     "duration": 0.01133,
     "end_time": "2021-03-15T18:42:35.228973",
     "exception": false,
     "start_time": "2021-03-15T18:42:35.217643",
     "status": "completed"
    },
    "tags": []
   },
   "source": [
    "# Conclusion #\n",
    "\n",
    "In this lesson, we learned about the structure of a convnet classifier: a **head** to act as a classifier atop of a **base** which performs the feature extraction.\n",
    "\n",
    "The head, essentially, is an ordinary classifier like you learned about in the introductory course. For features, it uses those features extracted by the base. This is the basic idea behind convolutional classifiers: that we can attach a unit that performs feature engineering to the classifier itself.\n",
    "\n",
    "This is one of the big advantages deep neural networks have over traditional machine learning models: given the right network structure, the deep neural net can learn how to engineer the features it needs to solve its problem.\n",
    "\n",
    "For the next few lessons, we'll take a look at how the convolutional base accomplishes the feature extraction. Then, you'll learn how to apply these ideas and design some classifiers of your own."
   ]
  },
  {
   "cell_type": "markdown",
   "metadata": {
    "papermill": {
     "duration": 0.013446,
     "end_time": "2021-03-15T18:42:35.259905",
     "exception": false,
     "start_time": "2021-03-15T18:42:35.246459",
     "status": "completed"
    },
    "tags": []
   },
   "source": [
    "# Your Turn #\n",
    "\n",
    "For now, move on to the [**Exercise**](https://www.kaggle.com/kernels/fork/10781907) and build your own image classifier!"
   ]
  },
  {
   "cell_type": "markdown",
   "metadata": {
    "papermill": {
     "duration": 0.011324,
     "end_time": "2021-03-15T18:42:35.282511",
     "exception": false,
     "start_time": "2021-03-15T18:42:35.271187",
     "status": "completed"
    },
    "tags": []
   },
   "source": [
    "---\n",
    "\n",
    "\n",
    "\n",
    "\n",
    "*Have questions or comments? Visit the [Learn Discussion forum](https://www.kaggle.com/learn-forum/196537) to chat with other Learners.*"
   ]
  }
 ],
 "metadata": {
  "jupytext": {
   "formats": "ipynb,md",
   "split_at_heading": true
  },
  "kernelspec": {
   "display_name": "Python 3",
   "language": "python",
   "name": "python3"
  },
  "language_info": {
   "codemirror_mode": {
    "name": "ipython",
    "version": 3
   },
   "file_extension": ".py",
   "mimetype": "text/x-python",
   "name": "python",
   "nbconvert_exporter": "python",
   "pygments_lexer": "ipython3",
   "version": "3.7.9"
  },
  "papermill": {
   "default_parameters": {},
   "duration": 529.809477,
   "end_time": "2021-03-15T18:42:37.992567",
   "environment_variables": {},
   "exception": null,
   "input_path": "__notebook__.ipynb",
   "output_path": "__notebook__.ipynb",
   "parameters": {},
   "start_time": "2021-03-15T18:33:48.183090",
   "version": "2.2.2"
  }
 },
 "nbformat": 4,
 "nbformat_minor": 4
}
